{
 "cells": [
  {
   "cell_type": "code",
   "execution_count": 7,
   "metadata": {},
   "outputs": [],
   "source": [
    "import os\n",
    "import sys\n",
    "\n",
    "nb_dir = os.path.split(os.getcwd())[0]\n",
    "if nb_dir not in sys.path:\n",
    "    sys.path.append(nb_dir)"
   ]
  },
  {
   "cell_type": "code",
   "execution_count": 8,
   "metadata": {},
   "outputs": [
    {
     "name": "stdout",
     "output_type": "stream",
     "text": [
      "+--------------+-------------------------------+---------------------------+-----------+----------+\n",
      "| Last Updated | Institution                   | Name                      | Owner     | Value    |\n",
      "+--------------+-------------------------------+---------------------------+-----------+----------+\n",
      "| 2017-11-17   | US Bank                       | Credit Card One           | Cyrus     | 2973.23  |\n",
      "| 2017-11-17   | US Bank                       | Credit Card Two           | Cyrus     | 1755.75  |\n",
      "| 2017-11-17   | US Bank                       | Reserve Line of Credit    | Cyrus     | 3027.6   |\n",
      "| 2017-11-17   | US Bank                       | Credit Card               | Annamarie | 2005.49  |\n",
      "| \u001b[0;30;41m2017-11-12\u001b[0m   | Parents                       | Loan for 8th Light Shares | Cyrus     | 5000.0   |\n",
      "| \u001b[0;30;41m2017-11-12\u001b[0m   | Draper and Kramer Mortgage Co | Mortgage                  | Family    | 259200.0 |\n",
      "| 2017-11-21   | American Express              | Credit Card               | Cyrus     | 1415.85  |\n",
      "| 2017-11-17   | Parents                       | Repayment for Electronics | Cyrus     | 335.0    |\n",
      "+--------------+-------------------------------+---------------------------+-----------+----------+\n"
     ]
    }
   ],
   "source": [
    "from portfolio_creator.data_source import DataSource\n",
    "from portfolio_creator.portfolio_creator import PortfolioCreator\n",
    "from terminaltables import AsciiTable\n",
    "from utilities.constants import Constants\n",
    "\n",
    "portfolio = PortfolioCreator().create(DataSource())\n",
    "data = [Constants.LIABILITIES_HEADERS]\n",
    "\n",
    "for liability in portfolio.liabilities():\n",
    "    data.append(liability.liabilities_row())\n",
    "\n",
    "t = AsciiTable(data)\n",
    "print(t.table)"
   ]
  },
  {
   "cell_type": "code",
   "execution_count": null,
   "metadata": {},
   "outputs": [],
   "source": []
  }
 ],
 "metadata": {
  "kernelspec": {
   "display_name": "Python 3",
   "language": "python",
   "name": "python3"
  },
  "language_info": {
   "codemirror_mode": {
    "name": "ipython",
    "version": 3
   },
   "file_extension": ".py",
   "mimetype": "text/x-python",
   "name": "python",
   "nbconvert_exporter": "python",
   "pygments_lexer": "ipython3",
   "version": "3.6.1"
  }
 },
 "nbformat": 4,
 "nbformat_minor": 2
}
