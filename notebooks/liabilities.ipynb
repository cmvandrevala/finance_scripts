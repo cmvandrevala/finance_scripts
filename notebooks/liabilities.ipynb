{
 "cells": [
  {
   "cell_type": "code",
   "execution_count": 8,
   "metadata": {},
   "outputs": [
    {
     "name": "stdout",
     "output_type": "stream",
     "text": [
      "+--------------+-------------------------------+---------------------------+-----------+----------+\n",
      "| Last Updated | Institution                   | Name                      | Owner     | Value    |\n",
      "+--------------+-------------------------------+---------------------------+-----------+----------+\n",
      "| 2017-11-12   | US Bank                       | Credit Card One           | Cyrus     | 2936.95  |\n",
      "| 2017-11-12   | US Bank                       | Credit Card Two           | Cyrus     | 1793.24  |\n",
      "| 2017-11-12   | US Bank                       | Reserve Line of Credit    | Cyrus     | 4817.28  |\n",
      "| 2017-11-12   | US Bank                       | Credit Card               | Annamarie | 1931.76  |\n",
      "| 2017-11-12   | Parents                       | Loan for 8th Light Shares | Cyrus     | 5000.0   |\n",
      "| 2017-11-12   | Draper and Kramer Mortgage Co | Mortgage                  | Family    | 259200.0 |\n",
      "| 2017-11-12   | American Express              | Credit Card               | Cyrus     | 969.35   |\n",
      "+--------------+-------------------------------+---------------------------+-----------+----------+\n"
     ]
    }
   ],
   "source": [
    "import os\n",
    "import sys\n",
    "\n",
    "nb_dir = os.path.split(os.getcwd())[0]\n",
    "if nb_dir not in sys.path:\n",
    "    sys.path.append(nb_dir)\n",
    "    \n",
    "from portfolio_creator.data_source import DataSource\n",
    "from portfolio_creator.portfolio_creator import PortfolioCreator\n",
    "from terminaltables import AsciiTable\n",
    "from utilities.constants import Constants\n",
    "\n",
    "portfolio = PortfolioCreator().create(DataSource())\n",
    "data = [Constants.LIABILITIES_HEADERS]\n",
    "\n",
    "for liability in portfolio.liabilities():\n",
    "    data.append(liability.liabilities_row())\n",
    "\n",
    "t = AsciiTable(data)\n",
    "print(t.table)\n"
   ]
  },
  {
   "cell_type": "code",
   "execution_count": null,
   "metadata": {},
   "outputs": [],
   "source": []
  },
  {
   "cell_type": "code",
   "execution_count": null,
   "metadata": {},
   "outputs": [],
   "source": []
  }
 ],
 "metadata": {
  "kernelspec": {
   "display_name": "Python 3",
   "language": "python",
   "name": "python3"
  },
  "language_info": {
   "codemirror_mode": {
    "name": "ipython",
    "version": 3
   },
   "file_extension": ".py",
   "mimetype": "text/x-python",
   "name": "python",
   "nbconvert_exporter": "python",
   "pygments_lexer": "ipython3",
   "version": "3.6.1"
  }
 },
 "nbformat": 4,
 "nbformat_minor": 2
}
